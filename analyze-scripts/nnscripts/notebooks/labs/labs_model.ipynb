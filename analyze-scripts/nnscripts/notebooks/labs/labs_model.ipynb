    {
 "cells": [
  {
   "cell_type": "code",
   "execution_count": 12,
   "metadata": {
    "collapsed": true
   },
   "outputs": [],
   "source": [
    "from tensorflow.keras.datasets import mnist #Библиотека с базой Mnist\n",
    "from tensorflow.keras.models import Sequential #НС прямого распространения\n",
    "from tensorflow.keras.layers import Dense #Полносвязные слой\n",
    "from tensorflow.keras import utils #Утилиты для to_categorical\n",
    "from tensorflow.keras.preprocessing import image #Для отрисовки изображения\n",
    "import numpy as np #Библиотека работы с массивами\n",
    "import matplotlib.pyplot as plt #Отрисовка изображений\n",
    "from PIL import Image #Отрисовка изображений\n",
    "#Отрисовывать изображения в ноутбуке, а не в консоль или файл\n",
    "%matplotlib inline\n",
    "#%tensorflow_version 2.2\n",
    "\n",
    "import pandas as pd\n",
    "from sklearn.preprocessing import StandardScaler\n",
    "import tensorflow as tf\n"
   ]
  },
  {
   "cell_type": "code",
   "execution_count": 13,
   "outputs": [
    {
     "name": "stderr",
     "output_type": "stream",
     "text": [
      "\"ls\" ­Ґ пў«пҐвбп ў­гваҐ­­Ґ© Ё«Ё ў­Ґи­Ґ©\n",
      "Є®¬ ­¤®©, ЁбЇ®«­пҐ¬®© Їа®Ја ¬¬®© Ё«Ё Ї ЄҐв­л¬ д ©«®¬.\n"
     ]
    }
   ],
   "source": [
    "!ls\n",
    "scaler = StandardScaler()\n",
    "\n",
    "\n",
    "def get_x_y_sets(csv_path_list):\n",
    "  csv_content = pd.concat([pd.read_csv(c) for c in csv_path_list], ignore_index=True)\n",
    "  x_csv_content = csv_content[['AVG_METHOD_LENGTH',\n",
    "       'PERCENTAGE_VOLUME_METHODS_WITH_LENGTH_LESS_THAN_15',\n",
    "       'PERCENTAGE_VOLUME_METHODS_WITH_LENGTH_MORE_THAN_15',\n",
    "       'PERCENTAGE_VOLUME_METHODS_WITH_LENGTH_MORE_THAN_30',\n",
    "       'PERCENTAGE_METHODS_WITH_ABC_IN_RANGE_0_10',\n",
    "       'PERCENTAGE_METHODS_WITH_ABC_IN_RANGE_11_999']]\n",
    "  y_csv_content = csv_content['IS_PASSED']\n",
    "  x_set = x_csv_content\n",
    "  x_set['AVG_METHOD_LENGTH'] = x_set['AVG_METHOD_LENGTH'] / 50\n",
    "  # y_set = tf.one_hot(y_csv_content, depth=2)\n",
    "  y_set = y_csv_content\n",
    "  return x_set, y_set"
   ],
   "metadata": {
    "collapsed": false
   }
  },
  {
   "cell_type": "code",
   "execution_count": 14,
   "outputs": [],
   "source": [
    "#Добавляем в сеть полносвязные слои\n",
    "#Dense - полносвязный слой, подробнее на https://keras.io/layers/core/\n",
    "#relu - одна из активационных функций, подробнее на https://keras.io/activations/\n",
    "#Выходной полносвязный слой, 10 нейронов (по количеству рукописных цифр)\n",
    "#activation=\"softmax\" - активационная функция,\n",
    "#которая делает сумму всех значений нейронов слоя, равной 1\n",
    "#Подробнее https://keras.io/activations/\n",
    "from keras.layers import LeakyReLU\n",
    "\n",
    "model = Sequential()\n",
    "# model.add(Dense(30, input_dim=6, activation=\"relu\"))\n",
    "model.add(Dense(units=300, input_dim=6, activation=LeakyReLU(alpha=0.05)))\n",
    "model.add(Dense(600, activation=\"relu\"))\n",
    "model.add(Dense(1, activation=\"sigmoid\"))\n",
    "\n",
    "# now add a ReLU layer explicitly:"
   ],
   "metadata": {
    "collapsed": false
   }
  },
  {
   "cell_type": "code",
   "execution_count": 15,
   "outputs": [
    {
     "name": "stdout",
     "output_type": "stream",
     "text": [
      "Model: \"sequential_1\"\n",
      "_________________________________________________________________\n",
      " Layer (type)                Output Shape              Param #   \n",
      "=================================================================\n",
      " dense_3 (Dense)             (None, 300)               2100      \n",
      "                                                                 \n",
      " dense_4 (Dense)             (None, 600)               180600    \n",
      "                                                                 \n",
      " dense_5 (Dense)             (None, 1)                 601       \n",
      "                                                                 \n",
      "=================================================================\n",
      "Total params: 183,301\n",
      "Trainable params: 183,301\n",
      "Non-trainable params: 0\n",
      "_________________________________________________________________\n",
      "None\n"
     ]
    }
   ],
   "source": [
    "#Нейронку надо \"скомпилировать\"\n",
    "#При компиляции мы задаём несколько параметров\n",
    "#loss - функция ошибки, которую оптимизирует сеть\n",
    "#categorical_crossentropy - одна из функций ошибки, подходящая для классификации нескольких классов, подробнее https://keras.io/activations/\n",
    "#optimizer - алгоритм обучения НС\n",
    "#adam - один из алгоритмов обучения НС, подробнее https://keras.io/optimizers/\n",
    "#metrics - метрика качества обучения, измеряется после каждой эпохи обучения\n",
    "#accuracy - метрика, процент правильно распознанных примеров, подробнее https://keras.io/metrics/\n",
    "model.compile(loss=\"binary_crossentropy\", optimizer=\"adam\", metrics=[\"accuracy\"])\n",
    "\n",
    "#Вывод структуры нейронки\n",
    "print(model.summary())"
   ],
   "metadata": {
    "collapsed": false
   }
  },
  {
   "cell_type": "code",
   "execution_count": 16,
   "outputs": [
    {
     "name": "stdout",
     "output_type": "stream",
     "text": [
      "_best_model.h5\n"
     ]
    }
   ],
   "source": [
    "from tensorflow.keras.callbacks import ModelCheckpoint\n",
    "best_model_save_path ='_best_model.h5'\n",
    "print(best_model_save_path)\n",
    "checkpoint_callback = ModelCheckpoint(best_model_save_path,\n",
    "                                      monitor='val_accuracy',\n",
    "                                      save_best_only=True,\n",
    "                                      verbose=1)"
   ],
   "metadata": {
    "collapsed": false
   }
  },
  {
   "cell_type": "code",
   "execution_count": 17,
   "outputs": [
    {
     "name": "stdout",
     "output_type": "stream",
     "text": [
      "Размер обучающей выборки наборов метрик проектов - (28, 6)\n",
      "Размер обучающей выборки - верных ответов - (28,)\n",
      "0     0\n",
      "1     1\n",
      "2     0\n",
      "3     1\n",
      "4     0\n",
      "5     1\n",
      "6     0\n",
      "7     1\n",
      "8     0\n",
      "9     1\n",
      "10    0\n",
      "11    1\n",
      "12    0\n",
      "13    1\n",
      "14    0\n",
      "15    1\n",
      "16    0\n",
      "17    1\n",
      "18    0\n",
      "19    1\n",
      "20    0\n",
      "21    1\n",
      "22    0\n",
      "23    1\n",
      "24    0\n",
      "25    1\n",
      "26    0\n",
      "27    1\n",
      "Name: IS_PASSED, dtype: int64\n",
      "Epoch 1/15\n",
      "1/1 [==============================] - ETA: 0s - loss: 0.6917 - accuracy: 0.3889"
     ]
    },
    {
     "name": "stderr",
     "output_type": "stream",
     "text": [
      "C:\\Users\\avgor\\AppData\\Local\\Temp\\ipykernel_17860\\3318382617.py:15: SettingWithCopyWarning: \n",
      "A value is trying to be set on a copy of a slice from a DataFrame.\n",
      "Try using .loc[row_indexer,col_indexer] = value instead\n",
      "\n",
      "See the caveats in the documentation: https://pandas.pydata.org/pandas-docs/stable/user_guide/indexing.html#returning-a-view-versus-a-copy\n",
      "  x_set['AVG_METHOD_LENGTH'] = x_set['AVG_METHOD_LENGTH'] / 50\n",
      "C:\\Users\\avgor\\AppData\\Local\\Programs\\Python\\Python311\\Lib\\site-packages\\tensorflow\\python\\data\\ops\\structured_function.py:254: UserWarning: Even though the `tf.config.experimental_run_functions_eagerly` option is set, this option does not apply to tf.data functions. To force eager execution of tf.data functions, please use `tf.data.experimental.enable_debug_mode()`.\n",
      "  warnings.warn(\n",
      "C:\\Users\\avgor\\AppData\\Local\\Programs\\Python\\Python311\\Lib\\site-packages\\tensorflow\\python\\data\\ops\\structured_function.py:254: UserWarning: Even though the `tf.config.experimental_run_functions_eagerly` option is set, this option does not apply to tf.data functions. To force eager execution of tf.data functions, please use `tf.data.experimental.enable_debug_mode()`.\n",
      "  warnings.warn(\n",
      "C:\\Users\\avgor\\AppData\\Local\\Programs\\Python\\Python311\\Lib\\site-packages\\tensorflow\\python\\data\\ops\\structured_function.py:254: UserWarning: Even though the `tf.config.experimental_run_functions_eagerly` option is set, this option does not apply to tf.data functions. To force eager execution of tf.data functions, please use `tf.data.experimental.enable_debug_mode()`.\n",
      "  warnings.warn(\n"
     ]
    },
    {
     "name": "stdout",
     "output_type": "stream",
     "text": [
      "\n",
      "Epoch 1: val_accuracy improved from -inf to 0.70000, saving model to _best_model.h5\n",
      "1/1 [==============================] - 0s 109ms/step - loss: 0.6917 - accuracy: 0.3889 - val_loss: 0.6640 - val_accuracy: 0.7000\n",
      "Epoch 2/15\n",
      "1/1 [==============================] - ETA: 0s - loss: 0.6628 - accuracy: 0.7778\n",
      "Epoch 2: val_accuracy did not improve from 0.70000\n",
      "1/1 [==============================] - 0s 30ms/step - loss: 0.6628 - accuracy: 0.7778 - val_loss: 0.6405 - val_accuracy: 0.7000\n",
      "Epoch 3/15\n",
      "1/1 [==============================] - ETA: 0s - loss: 0.6372 - accuracy: 0.7778\n",
      "Epoch 3: val_accuracy improved from 0.70000 to 0.80000, saving model to _best_model.h5\n",
      "1/1 [==============================] - 0s 42ms/step - loss: 0.6372 - accuracy: 0.7778 - val_loss: 0.6199 - val_accuracy: 0.8000\n",
      "Epoch 4/15\n",
      "1/1 [==============================] - ETA: 0s - loss: 0.6139 - accuracy: 0.7778\n",
      "Epoch 4: val_accuracy did not improve from 0.80000\n",
      "1/1 [==============================] - 0s 29ms/step - loss: 0.6139 - accuracy: 0.7778 - val_loss: 0.6016 - val_accuracy: 0.8000\n",
      "Epoch 5/15\n",
      "1/1 [==============================] - ETA: 0s - loss: 0.5925 - accuracy: 0.7778\n",
      "Epoch 5: val_accuracy did not improve from 0.80000\n",
      "1/1 [==============================] - 0s 30ms/step - loss: 0.5925 - accuracy: 0.7778 - val_loss: 0.5856 - val_accuracy: 0.8000\n",
      "Epoch 6/15\n",
      "1/1 [==============================] - ETA: 0s - loss: 0.5730 - accuracy: 0.7778\n",
      "Epoch 6: val_accuracy did not improve from 0.80000\n",
      "1/1 [==============================] - 0s 30ms/step - loss: 0.5730 - accuracy: 0.7778 - val_loss: 0.5722 - val_accuracy: 0.8000\n",
      "Epoch 7/15\n",
      "1/1 [==============================] - ETA: 0s - loss: 0.5550 - accuracy: 0.7778\n",
      "Epoch 7: val_accuracy did not improve from 0.80000\n",
      "1/1 [==============================] - 0s 30ms/step - loss: 0.5550 - accuracy: 0.7778 - val_loss: 0.5607 - val_accuracy: 0.8000\n",
      "Epoch 8/15\n",
      "1/1 [==============================] - ETA: 0s - loss: 0.5383 - accuracy: 0.7778\n",
      "Epoch 8: val_accuracy did not improve from 0.80000\n",
      "1/1 [==============================] - 0s 27ms/step - loss: 0.5383 - accuracy: 0.7778 - val_loss: 0.5505 - val_accuracy: 0.8000\n",
      "Epoch 9/15\n",
      "1/1 [==============================] - ETA: 0s - loss: 0.5228 - accuracy: 0.7778\n",
      "Epoch 9: val_accuracy did not improve from 0.80000\n",
      "1/1 [==============================] - 0s 29ms/step - loss: 0.5228 - accuracy: 0.7778 - val_loss: 0.5419 - val_accuracy: 0.8000\n",
      "Epoch 10/15\n",
      "1/1 [==============================] - ETA: 0s - loss: 0.5084 - accuracy: 0.7778\n",
      "Epoch 10: val_accuracy did not improve from 0.80000\n",
      "1/1 [==============================] - 0s 29ms/step - loss: 0.5084 - accuracy: 0.7778 - val_loss: 0.5349 - val_accuracy: 0.8000\n",
      "Epoch 11/15\n",
      "1/1 [==============================] - ETA: 0s - loss: 0.4952 - accuracy: 0.7778\n",
      "Epoch 11: val_accuracy did not improve from 0.80000\n",
      "1/1 [==============================] - 0s 29ms/step - loss: 0.4952 - accuracy: 0.7778 - val_loss: 0.5292 - val_accuracy: 0.8000\n",
      "Epoch 12/15\n",
      "1/1 [==============================] - ETA: 0s - loss: 0.4830 - accuracy: 0.7778\n",
      "Epoch 12: val_accuracy did not improve from 0.80000\n",
      "1/1 [==============================] - 0s 29ms/step - loss: 0.4830 - accuracy: 0.7778 - val_loss: 0.5249 - val_accuracy: 0.8000\n",
      "Epoch 13/15\n",
      "1/1 [==============================] - ETA: 0s - loss: 0.4720 - accuracy: 0.7778\n",
      "Epoch 13: val_accuracy did not improve from 0.80000\n",
      "1/1 [==============================] - 0s 29ms/step - loss: 0.4720 - accuracy: 0.7778 - val_loss: 0.5220 - val_accuracy: 0.8000\n",
      "Epoch 14/15\n",
      "1/1 [==============================] - ETA: 0s - loss: 0.4620 - accuracy: 0.7778\n",
      "Epoch 14: val_accuracy did not improve from 0.80000\n",
      "1/1 [==============================] - 0s 30ms/step - loss: 0.4620 - accuracy: 0.7778 - val_loss: 0.5205 - val_accuracy: 0.8000\n",
      "Epoch 15/15\n",
      "1/1 [==============================] - ETA: 0s - loss: 0.4532 - accuracy: 0.7778\n",
      "Epoch 15: val_accuracy did not improve from 0.80000\n",
      "1/1 [==============================] - 0s 32ms/step - loss: 0.4532 - accuracy: 0.7778 - val_loss: 0.5208 - val_accuracy: 0.8000\n"
     ]
    }
   ],
   "source": [
    "tf.config.run_functions_eagerly(True)\n",
    "\n",
    "x_train, y_train = get_x_y_sets(['2lab.csv'])\n",
    "\n",
    "print('Размер обучающей выборки наборов метрик проектов -', x_train.shape)\n",
    "print('Размер обучающей выборки - верных ответов -', y_train.shape)\n",
    "\n",
    "# print(x_train)\n",
    "print(y_train)\n",
    "\n",
    "\n",
    "\n",
    "history = model.fit(x_train, y_train, batch_size=20, epochs=15, verbose=1, validation_split=0.35, callbacks=[checkpoint_callback])"
   ],
   "metadata": {
    "collapsed": false
   }
  },
  {
   "cell_type": "code",
   "execution_count": 18,
   "outputs": [
    {
     "data": {
      "text/plain": "<Figure size 640x480 with 1 Axes>",
      "image/png": "[encoded data removed]"
     },
     "metadata": {},
     "output_type": "display_data"
    }
   ],
   "source": [
    "plt.plot(history.history['accuracy'],\n",
    "         label='Доля верных ответов на обучающем наборе')\n",
    "plt.plot(history.history['val_accuracy'],\n",
    "         label='Доля верных ответов на проверочном наборе')\n",
    "plt.xlabel('Эпоха обучения')\n",
    "plt.ylabel('Доля верных ответов')\n",
    "plt.legend()\n",
    "plt.show()"
   ],
   "metadata": {
    "collapsed": false
   }
  },
  {
   "cell_type": "code",
   "execution_count": 20,
   "outputs": [
    {
     "ename": "NameError",
     "evalue": "name 'x_test' is not defined",
     "output_type": "error",
     "traceback": [
      "\u001B[1;31m---------------------------------------------------------------------------\u001B[0m",
      "\u001B[1;31mNameError\u001B[0m                                 Traceback (most recent call last)",
      "Cell \u001B[1;32mIn[20], line 1\u001B[0m\n\u001B[1;32m----> 1\u001B[0m model\u001B[38;5;241m.\u001B[39mevaluate(\u001B[43mx_test\u001B[49m, y_test, verbose\u001B[38;5;241m=\u001B[39m\u001B[38;5;241m1\u001B[39m)\n",
      "\u001B[1;31mNameError\u001B[0m: name 'x_test' is not defined"
     ]
    }
   ],
   "source": [
    "model.evaluate(x_test, y_test, verbose=1)"
   ],
   "metadata": {
    "collapsed": false
   }
  },
  {
   "cell_type": "code",
   "execution_count": 21,
   "outputs": [],
   "source": [
    "model.load_weights(best_model_save_path)\n"
   ],
   "metadata": {
    "collapsed": false
   }
  },
  {
   "cell_type": "code",
   "execution_count": null,
   "outputs": [],
   "source": [
    "model.evaluate(x_test, y_test, verbose=1)"
   ],
   "metadata": {
    "collapsed": false
   }
  },
  {
   "cell_type": "code",
   "execution_count": 22,
   "outputs": [],
   "source": [
    "model.save(\"model_code_metrics.h5\")"
   ],
   "metadata": {
    "collapsed": false
   }
  },
  {
   "cell_type": "code",
   "execution_count": null,
   "outputs": [],
   "source": [],
   "metadata": {
    "collapsed": false
   }
  }
 ],
 "metadata": {
  "kernelspec": {
   "display_name": "Python 3",
   "language": "python",
   "name": "python3"
  },
  "language_info": {
   "codemirror_mode": {
    "name": "ipython",
    "version": 2
   },
   "file_extension": ".py",
   "mimetype": "text/x-python",
   "name": "python",
   "nbconvert_exporter": "python",
   "pygments_lexer": "ipython2",
   "version": "2.7.6"
  }
 },
 "nbformat": 4,
 "nbformat_minor": 0
}
